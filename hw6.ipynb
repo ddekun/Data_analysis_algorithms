{
  "nbformat": 4,
  "nbformat_minor": 0,
  "metadata": {
    "colab": {
      "provenance": [],
      "authorship_tag": "ABX9TyPcHbjSjF+qP5UdvxCPtYBd",
      "include_colab_link": true
    },
    "kernelspec": {
      "name": "python3",
      "display_name": "Python 3"
    },
    "language_info": {
      "name": "python"
    }
  },
  "cells": [
    {
      "cell_type": "markdown",
      "metadata": {
        "id": "view-in-github",
        "colab_type": "text"
      },
      "source": [
        "<a href=\"https://colab.research.google.com/github/ddekun/Data_analysis_algorithms/blob/lesson6/hw6.ipynb\" target=\"_parent\"><img src=\"https://colab.research.google.com/assets/colab-badge.svg\" alt=\"Open In Colab\"/></a>"
      ]
    },
    {
      "cell_type": "markdown",
      "source": [
        "# Алгоритмы анализа данных"
      ],
      "metadata": {
        "id": "n0PiT-9AJLW0"
      }
    },
    {
      "cell_type": "markdown",
      "source": [
        "## Урок 6. Градиентный бустинг (AdaBoost)"
      ],
      "metadata": {
        "id": "4BepnSzNJSfR"
      }
    },
    {
      "cell_type": "markdown",
      "source": [
        "### Домашнее задание\n",
        "Для реализованной в методичке модели градиентного бустинга построить зависимости ошибки от количества деревьев при разных значениях шага градиента на одном графике и для разной глубины деревьев на другом.\n",
        "Сделать выводы о зависимости ошибки от этих гиперпараметров (шаг градиента, максимальная глубина деревьев, количество деревьев).\n",
        "Подобрать оптимальные значения этих гиперпараметров (минимум ошибки на тесте при отсутствии переобучения)."
      ],
      "metadata": {
        "id": "nFe9Sj-CJXWs"
      }
    },
    {
      "cell_type": "code",
      "execution_count": 1,
      "metadata": {
        "id": "SwtJbBHJJJPM"
      },
      "outputs": [],
      "source": [
        "from sklearn import model_selection\n",
        "from sklearn.tree import DecisionTreeRegressor\n",
        "from sklearn.datasets import load_diabetes\n",
        "import matplotlib.pyplot as plt\n",
        "import numpy as np"
      ]
    },
    {
      "cell_type": "markdown",
      "source": [
        "**Используем один из \"игрушечных\" датасетов из той же библиотеки.**"
      ],
      "metadata": {
        "id": "GpAGiBm9RoWH"
      }
    },
    {
      "cell_type": "code",
      "source": [
        "X, y = load_diabetes(return_X_y=True)\n",
        "X.shape, y.shape"
      ],
      "metadata": {
        "colab": {
          "base_uri": "https://localhost:8080/"
        },
        "id": "zHiSAF2fRmTj",
        "outputId": "b21a20a7-8a31-4d40-d6ce-dde6cdbed867"
      },
      "execution_count": 3,
      "outputs": [
        {
          "output_type": "execute_result",
          "data": {
            "text/plain": [
              "((442, 10), (442,))"
            ]
          },
          "metadata": {},
          "execution_count": 3
        }
      ]
    },
    {
      "cell_type": "markdown",
      "source": [
        "**Разделим выборку на обучающую и тестовую в соотношении 75/25.**"
      ],
      "metadata": {
        "id": "XkYq9AEFRs1Y"
      }
    },
    {
      "cell_type": "code",
      "source": [
        "X_train, X_test, y_train, y_test = model_selection.train_test_split(X, y, test_size=0.25)"
      ],
      "metadata": {
        "id": "AIG1RCuZRtxA"
      },
      "execution_count": 4,
      "outputs": []
    },
    {
      "cell_type": "markdown",
      "source": [
        "**Напишем функцию, реализующую предсказание в градиентном бустинге.**"
      ],
      "metadata": {
        "id": "Ivktw6P4Sb5c"
      }
    },
    {
      "cell_type": "code",
      "source": [
        "def gb_predict(X, trees_list, eta):\n",
        "    # Реализуемый алгоритм градиентного бустинга будет инициализироваться нулевыми значениями,\n",
        "    # поэтому все деревья из списка trees_list уже являются дополнительными и при предсказании\n",
        "    # прибавляются с шагом eta\n",
        "    \n",
        "#     predictions = np.zeros(X.shape[0])\n",
        "#     for i, x in enumerate(X):\n",
        "#         prediction = 0\n",
        "#         for alg in trees_list:\n",
        "#             prediction += eta * alg.predict([x])[0]\n",
        "#         predictions[i] = prediction\n",
        "        \n",
        "    predictions = np.array(\n",
        "        [sum([eta * alg.predict([x])[0] for alg in trees_list]) for x in X]\n",
        "    )\n",
        "\n",
        "    return predictions"
      ],
      "metadata": {
        "id": "VhOJ22PaScyr"
      },
      "execution_count": 5,
      "outputs": []
    },
    {
      "cell_type": "markdown",
      "source": [
        "**В качестве функционала ошибки будем использовать среднеквадратичную ошибку. Реализуем соответствующую функцию.**"
      ],
      "metadata": {
        "id": "ppA8x4DeShjb"
      }
    },
    {
      "cell_type": "code",
      "source": [
        "def mean_squared_error(y_real, prediction):\n",
        "    return (sum((y_real - prediction)**2)) / len(y_real)"
      ],
      "metadata": {
        "id": "I5srxZJkSiav"
      },
      "execution_count": 6,
      "outputs": []
    },
    {
      "cell_type": "markdown",
      "source": [
        "**Используем $L_{2}$ loss $L(y, z) = (y - z)^{2},$ ее производная по $z$ примет вид $L'(y, z) = 2(z - y)$. Реализуем ее также в виде функции (коэффициент 2 можно отбросить).**"
      ],
      "metadata": {
        "id": "2QXgt-m8SlMS"
      }
    },
    {
      "cell_type": "code",
      "source": [
        "def residual(y, z):\n",
        "    return - (z - y)"
      ],
      "metadata": {
        "id": "np5s7lFrSoN9"
      },
      "execution_count": 7,
      "outputs": []
    },
    {
      "cell_type": "markdown",
      "source": [
        "**Реализуем функцию обучения градиентного бустинга.**"
      ],
      "metadata": {
        "id": "6IOcNvoKSrNC"
      }
    },
    {
      "cell_type": "code",
      "source": [
        "def gb_fit(n_trees, max_depth, X_train, X_test, y_train, y_test, eta):\n",
        "    \n",
        "    # Деревья будем записывать в список\n",
        "    trees = []\n",
        "    \n",
        "    # Будем записывать ошибки на обучающей и тестовой выборке на каждой итерации в список\n",
        "    train_errors = []\n",
        "    test_errors = []\n",
        "    \n",
        "    for i in range(n_trees):\n",
        "        tree = DecisionTreeRegressor(max_depth=max_depth, random_state=42)\n",
        "\n",
        "        # первый алгоритм просто обучаем на выборке и добавляем в список\n",
        "        if len(trees) == 0:\n",
        "            # обучаем первое дерево на обучающей выборке\n",
        "            tree.fit(X_train, y_train)\n",
        "            \n",
        "            train_errors.append(mean_squared_error(y_train, gb_predict(X_train, trees, eta)))\n",
        "            test_errors.append(mean_squared_error(y_test, gb_predict(X_test, trees, eta)))\n",
        "        else:\n",
        "            # Получим ответы на текущей композиции\n",
        "            target = gb_predict(X_train, trees, eta)\n",
        "            \n",
        "            # алгоритмы начиная со второго обучаем на сдвиг\n",
        "            tree.fit(X_train, residual(y_train, target))\n",
        "            \n",
        "            train_errors.append(mean_squared_error(y_train, gb_predict(X_train, trees, eta)))\n",
        "            test_errors.append(mean_squared_error(y_test, gb_predict(X_test, trees, eta)))\n",
        "\n",
        "        trees.append(tree)\n",
        "        \n",
        "    return trees, train_errors, test_errors"
      ],
      "metadata": {
        "id": "y7PnuuRXStWc"
      },
      "execution_count": 8,
      "outputs": []
    },
    {
      "cell_type": "markdown",
      "source": [
        "**Для реализованной модели градиентного бустинга построить зависимости ошибки от количества деревьев при разных значениях шага градиента на одном графике и для разной глубины деревьев на другом.**"
      ],
      "metadata": {
        "id": "m-kQaa3ySwDB"
      }
    },
    {
      "cell_type": "code",
      "source": [
        "from tqdm import tqdm\n",
        "\n",
        "\n",
        "eta = 1\n",
        "max_depths = range(1, 11)\n",
        "\n",
        "\n",
        "def plot_different_max_depths(n_trees=3, max_depths=max_depths):\n",
        "    train_errors_depths = []\n",
        "    test_errors_depths = []\n",
        "\n",
        "    for max_depth in tqdm(max_depths):\n",
        "        _, train_errors, test_errors = gb_fit(n_trees, max_depth, X_train, X_test, y_train, y_test, eta)\n",
        "        train_errors_depths.append(train_errors[-1])\n",
        "        test_errors_depths.append(test_errors[-1])\n",
        "\n",
        "\n",
        "    print(f'Количество деревьев в бустинге {n_trees}')\n",
        "    plt.plot(range(len(max_depths)), train_errors_depths, label='train_error')\n",
        "    plt.plot(range(len(max_depths)), test_errors_depths, label='test_error')\n",
        "    plt.xlabel('Глубина дерева')\n",
        "    plt.ylabel('MSE')\n",
        "    plt.legend()"
      ],
      "metadata": {
        "id": "r0-XAOgvSx3x"
      },
      "execution_count": 10,
      "outputs": []
    },
    {
      "cell_type": "code",
      "source": [
        "plot_different_max_depths(max_depths=max_depths, n_trees=3)"
      ],
      "metadata": {
        "colab": {
          "base_uri": "https://localhost:8080/",
          "height": 315
        },
        "id": "PzOULoxuTxZa",
        "outputId": "bd6e7a01-7b7f-454d-d26c-fe810577a6c2"
      },
      "execution_count": 11,
      "outputs": [
        {
          "output_type": "stream",
          "name": "stderr",
          "text": [
            "100%|██████████| 10/10 [00:03<00:00,  2.88it/s]\n"
          ]
        },
        {
          "output_type": "stream",
          "name": "stdout",
          "text": [
            "Количество деревьев в бустинге 3\n"
          ]
        },
        {
          "output_type": "display_data",
          "data": {
            "text/plain": [
              "<Figure size 432x288 with 1 Axes>"
            ],
            "image/png": "[encoded data removed]"
          },
          "metadata": {
            "needs_background": "light"
          }
        }
      ]
    },
    {
      "cell_type": "code",
      "source": [
        "plot_different_max_depths(max_depths=max_depths, n_trees=10)"
      ],
      "metadata": {
        "colab": {
          "base_uri": "https://localhost:8080/",
          "height": 314
        },
        "id": "ewMdX-7bT3_O",
        "outputId": "d9d2b3ec-b39c-4047-e3e5-5a0b86c30f30"
      },
      "execution_count": 12,
      "outputs": [
        {
          "output_type": "stream",
          "name": "stderr",
          "text": [
            "100%|██████████| 10/10 [00:28<00:00,  2.88s/it]"
          ]
        },
        {
          "output_type": "stream",
          "name": "stdout",
          "text": [
            "Количество деревьев в бустинге 10\n"
          ]
        },
        {
          "output_type": "stream",
          "name": "stderr",
          "text": [
            "\n"
          ]
        },
        {
          "output_type": "display_data",
          "data": {
            "text/plain": [
              "<Figure size 432x288 with 1 Axes>"
            ],
            "image/png": "[encoded data removed]"
          },
          "metadata": {
            "needs_background": "light"
          }
        }
      ]
    },
    {
      "cell_type": "code",
      "source": [
        "eta = 1\n",
        "n_trees = range(1, 10, 1)\n",
        "\n",
        "\n",
        "def plot_different_num_trees(n_trees=n_trees, max_depth=3):\n",
        "    train_errors_trees = []\n",
        "    test_errors_trees = []\n",
        "\n",
        "    for n in tqdm(n_trees):\n",
        "        _, train_errors, test_errors = gb_fit(n, max_depth, X_train, X_test, y_train, y_test, eta)\n",
        "        train_errors_trees.append(train_errors[-1])\n",
        "        test_errors_trees.append(test_errors[-1])\n",
        "\n",
        "\n",
        "    print(f'Максимальная глубина дерева {max_depth}')\n",
        "    plt.plot(n_trees, train_errors_trees, label='train_error')\n",
        "    plt.plot(n_trees, test_errors_trees, label='test_error')\n",
        "    plt.xlabel('Количество алгоритмов в бустинге')\n",
        "    plt.ylabel('MSE')\n",
        "    plt.xticks(n_trees, n_trees)\n",
        "    plt.legend()"
      ],
      "metadata": {
        "id": "G59WhitwUJ-e"
      },
      "execution_count": 15,
      "outputs": []
    },
    {
      "cell_type": "code",
      "source": [
        "plot_different_num_trees(n_trees=n_trees, max_depth=3)"
      ],
      "metadata": {
        "colab": {
          "base_uri": "https://localhost:8080/",
          "height": 314
        },
        "id": "px3o_J4UVOuC",
        "outputId": "3ca59639-0301-4538-cf35-bb65ecc431e7"
      },
      "execution_count": 16,
      "outputs": [
        {
          "output_type": "stream",
          "name": "stderr",
          "text": [
            "100%|██████████| 9/9 [00:09<00:00,  1.02s/it]\n"
          ]
        },
        {
          "output_type": "stream",
          "name": "stdout",
          "text": [
            "Максимальная глубина дерева 3\n"
          ]
        },
        {
          "output_type": "display_data",
          "data": {
            "text/plain": [
              "<Figure size 432x288 with 1 Axes>"
            ],
            "image/png": "[encoded data removed]"
          },
          "metadata": {
            "needs_background": "light"
          }
        }
      ]
    },
    {
      "cell_type": "code",
      "source": [
        "plot_different_num_trees(n_trees=n_trees, max_depth=5)"
      ],
      "metadata": {
        "colab": {
          "base_uri": "https://localhost:8080/",
          "height": 314
        },
        "id": "G02grkRXVmfa",
        "outputId": "ee45bbcd-7fc1-4ffb-8a5e-d9198955ecfd"
      },
      "execution_count": 17,
      "outputs": [
        {
          "output_type": "stream",
          "name": "stderr",
          "text": [
            "100%|██████████| 9/9 [00:08<00:00,  1.02it/s]\n"
          ]
        },
        {
          "output_type": "stream",
          "name": "stdout",
          "text": [
            "Максимальная глубина дерева 5\n"
          ]
        },
        {
          "output_type": "display_data",
          "data": {
            "text/plain": [
              "<Figure size 432x288 with 1 Axes>"
            ],
            "image/png": "[encoded data removed]"
          },
          "metadata": {
            "needs_background": "light"
          }
        }
      ]
    },
    {
      "cell_type": "code",
      "source": [
        "plot_different_num_trees(n_trees=n_trees, max_depth=10)"
      ],
      "metadata": {
        "colab": {
          "base_uri": "https://localhost:8080/",
          "height": 314
        },
        "id": "OOvN0HW7VuhJ",
        "outputId": "81929006-b1ac-4c94-8b96-0f7132b15a38"
      },
      "execution_count": 18,
      "outputs": [
        {
          "output_type": "stream",
          "name": "stderr",
          "text": [
            "100%|██████████| 9/9 [00:08<00:00,  1.11it/s]\n"
          ]
        },
        {
          "output_type": "stream",
          "name": "stdout",
          "text": [
            "Максимальная глубина дерева 10\n"
          ]
        },
        {
          "output_type": "display_data",
          "data": {
            "text/plain": [
              "<Figure size 432x288 with 1 Axes>"
            ],
            "image/png": "[encoded data removed]"
          },
          "metadata": {
            "needs_background": "light"
          }
        }
      ]
    },
    {
      "cell_type": "markdown",
      "source": [
        "Вывод:\n",
        "1. С увеличением количества деревьев ошибка в тренировочной и тестовой выборке уменьшается.\n",
        "2. С увеличением глубины дерева более 3 происходит увеличение ошибки на тестовой выборке, а величина ошибки на тренировочной выборке существенно не уменьшается. При этом происходит значительное замедление работы алгоритма."
      ],
      "metadata": {
        "id": "Vov1zZ21b9rD"
      }
    }
  ]
}