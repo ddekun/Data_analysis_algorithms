{
  "nbformat": 4,
  "nbformat_minor": 0,
  "metadata": {
    "colab": {
      "provenance": [],
      "authorship_tag": "ABX9TyOrUtejLnu6Z/TnT6ezmZG+",
      "include_colab_link": true
    },
    "kernelspec": {
      "name": "python3",
      "display_name": "Python 3"
    },
    "language_info": {
      "name": "python"
    }
  },
  "cells": [
    {
      "cell_type": "markdown",
      "metadata": {
        "id": "view-in-github",
        "colab_type": "text"
      },
      "source": [
        "<a href=\"https://colab.research.google.com/github/ddekun/Data_analysis_algorithms/blob/lesson1/hw1.ipynb\" target=\"_parent\"><img src=\"https://colab.research.google.com/assets/colab-badge.svg\" alt=\"Open In Colab\"/></a>"
      ]
    },
    {
      "cell_type": "markdown",
      "source": [
        "# Алгоритмы анализа данных"
      ],
      "metadata": {
        "id": "lXjJrwI1aJR7"
      }
    },
    {
      "cell_type": "markdown",
      "source": [
        "## Урок 1. Алгоритм линейной регрессии. Градиентный спуск"
      ],
      "metadata": {
        "id": "Lyzt-G5oaOOt"
      }
    },
    {
      "cell_type": "markdown",
      "source": [
        "### Домашнее задание"
      ],
      "metadata": {
        "id": "zg3U_LU_aRXW"
      }
    },
    {
      "cell_type": "markdown",
      "source": [
        "**1. Проведите небольшое исследование алгоритма градиентного спуска. Оцените влияние значений скорости обучения (eta) и количества итераций на ошибку алгоритма. Как связаны эти два гиперпараметра между собой? Подберите скорость обучения и количество итераций до совпадения ответов алгоритма с результатами МНК. Как можно ускорить процесс вычисления весов?**"
      ],
      "metadata": {
        "id": "o-8ysiOnaZ5R"
      }
    },
    {
      "cell_type": "markdown",
      "source": [
        "Чем меньше eta, тем меньше шаг градиентного спуска, и тем медленнее алгоритм сходится. С другой стороны, слишком большое значение eta может привести к тому, что алгоритм будет пропускать оптимальное решение и будет осциллировать вокруг него.\n",
        "\n",
        "Чем больше количество итераций, тем точнее будет найдено оптимальное решение. Однако, слишком большое количество итераций может привести к переобучению, когда модель будет хорошо подстроена под тренировочный набор, но будет плохо работать на новых данных."
      ],
      "metadata": {
        "id": "Lo66MymnHWs0"
      }
    },
    {
      "cell_type": "code",
      "execution_count": 22,
      "metadata": {
        "id": "suUDO97yaGdc"
      },
      "outputs": [],
      "source": [
        "import numpy as np\n",
        "import matplotlib.pyplot as plt\n",
        "import pandas as pd"
      ]
    },
    {
      "cell_type": "code",
      "source": [
        "X = np.array([[ 1,  1],\n",
        "              [ 1,  1],\n",
        "              [ 1,  2],\n",
        "              [ 1,  5],\n",
        "              [ 1,  3],\n",
        "              [ 1,  0],\n",
        "              [ 1,  5],\n",
        "              [ 1, 10],\n",
        "              [ 1,  1],\n",
        "              [ 1,  2]])"
      ],
      "metadata": {
        "id": "zRBXLQx2IC4A"
      },
      "execution_count": 3,
      "outputs": []
    },
    {
      "cell_type": "code",
      "source": [
        "y = [45, 55, 50, 55, 60, 35, 75, 80, 50, 60]"
      ],
      "metadata": {
        "id": "7f1dK1BYIOIl"
      },
      "execution_count": 4,
      "outputs": []
    },
    {
      "cell_type": "code",
      "source": [
        "def calc_mae(y, y_pred):\n",
        "    err = np.mean(np.abs(y - y_pred))\n",
        "    return err\n",
        "\n",
        "def calc_mse(y, y_pred):\n",
        "    err = np.mean((y - y_pred)**2)\n",
        "    return err"
      ],
      "metadata": {
        "id": "M9pO-HsXH81f"
      },
      "execution_count": 7,
      "outputs": []
    },
    {
      "cell_type": "code",
      "source": [
        "n = X.shape[0]\n",
        "\n",
        "# Изменения\n",
        "eta = 1e-3 \n",
        "n_iter = 500\n",
        "\n",
        "W = np.array([1, 0.5])\n",
        "print(f'Number of objects = {n} \\\n",
        "       \\nLearning rate = {eta} \\\n",
        "       \\nInitial weights = {W} \\n')\n",
        "\n",
        "for i in range(n_iter):\n",
        "    y_pred = np.dot(X, W)\n",
        "    err = calc_mse(y, y_pred)\n",
        "    for k in range(W.shape[0]):\n",
        "        W[k] -= eta * (1/n * 2 * X[:, k] @ (y_pred - y))\n",
        "    if i % 10 == 0:\n",
        "        eta /= 1.1\n",
        "        print(f'Iteration #{i}: W_new = {W}, MSE = {round(err, 2)}')"
      ],
      "metadata": {
        "colab": {
          "base_uri": "https://localhost:8080/"
        },
        "id": "28AthNpPKOIz",
        "outputId": "cc8ed63b-0d83-401c-bbc6-67cf1b8b970e"
      },
      "execution_count": 10,
      "outputs": [
        {
          "output_type": "stream",
          "name": "stdout",
          "text": [
            "Number of objects = 10        \n",
            "Learning rate = 0.001        \n",
            "Initial weights = [1.  0.5] \n",
            "\n",
            "Iteration #0: W_new = [1.108 0.877], MSE = 3047.75\n",
            "Iteration #10: W_new = [1.98538229 3.73754631], MSE = 1991.2\n",
            "Iteration #20: W_new = [2.65151474 5.62717924], MSE = 1473.64\n",
            "Iteration #30: W_new = [3.17602393 6.90966203], MSE = 1203.1\n",
            "Iteration #40: W_new = [3.60140403 7.80143614], MSE = 1052.67\n",
            "Iteration #50: W_new = [3.95459332 8.43516509], MSE = 963.95\n",
            "Iteration #60: W_new = [4.25330617 8.89440055], MSE = 908.59\n",
            "Iteration #70: W_new = [4.50960937 9.23308795], MSE = 872.15\n",
            "Iteration #80: W_new = [4.73200372 9.48685965], MSE = 846.97\n",
            "Iteration #90: W_new = [4.9266705  9.67974823], MSE = 828.76\n",
            "Iteration #100: W_new = [5.09823829 9.82827603], MSE = 815.07\n",
            "Iteration #110: W_new = [5.25026691 9.94400351], MSE = 804.43\n",
            "Iteration #120: W_new = [ 5.38556058 10.03515101], MSE = 795.91\n",
            "Iteration #130: W_new = [ 5.50637544 10.10765119], MSE = 788.93\n",
            "Iteration #140: W_new = [ 5.61456026 10.16584453], MSE = 783.11\n",
            "Iteration #150: W_new = [ 5.71165399 10.21294686], MSE = 778.17\n",
            "Iteration #160: W_new = [ 5.798955   10.25136856], MSE = 773.93\n",
            "Iteration #170: W_new = [ 5.87757107 10.28293577], MSE = 770.25\n",
            "Iteration #180: W_new = [ 5.94845646 10.30904582], MSE = 767.04\n",
            "Iteration #190: W_new = [ 6.0124397  10.33077779], MSE = 764.21\n",
            "Iteration #200: W_new = [ 6.07024503 10.34897217], MSE = 761.71\n",
            "Iteration #210: W_new = [ 6.12250905 10.36428884], MSE = 759.49\n",
            "Iteration #220: W_new = [ 6.16979397 10.37724976], MSE = 757.51\n",
            "Iteration #230: W_new = [ 6.21259826 10.3882707 ], MSE = 755.74\n",
            "Iteration #240: W_new = [ 6.25136537 10.39768502], MSE = 754.16\n",
            "Iteration #250: W_new = [ 6.28649092 10.40576165], MSE = 752.73\n",
            "Iteration #260: W_new = [ 6.31832869 10.41271884], MSE = 751.45\n",
            "Iteration #270: W_new = [ 6.34719572 10.41873468], MSE = 750.3\n",
            "Iteration #280: W_new = [ 6.37337659 10.42395526], MSE = 749.26\n",
            "Iteration #290: W_new = [ 6.39712717 10.42850106], MSE = 748.33\n",
            "Iteration #300: W_new = [ 6.41867778 10.43247186], MSE = 747.48\n",
            "Iteration #310: W_new = [ 6.43823602 10.43595075], MSE = 746.71\n",
            "Iteration #320: W_new = [ 6.45598914 10.43900717], MSE = 746.02\n",
            "Iteration #330: W_new = [ 6.47210622 10.44169946], MSE = 745.4\n",
            "Iteration #340: W_new = [ 6.48674003 10.44407678], MSE = 744.83\n",
            "Iteration #350: W_new = [ 6.50002869 10.44618077], MSE = 744.31\n",
            "Iteration #360: W_new = [ 6.51209718 10.44804681], MSE = 743.85\n",
            "Iteration #370: W_new = [ 6.5230586  10.44970507], MSE = 743.43\n",
            "Iteration #380: W_new = [ 6.53301538 10.4511814 ], MSE = 743.04\n",
            "Iteration #390: W_new = [ 6.54206032 10.452498  ], MSE = 742.7\n",
            "Iteration #400: W_new = [ 6.55027749 10.45367399], MSE = 742.38\n",
            "Iteration #410: W_new = [ 6.55774313 10.45472594], MSE = 742.1\n",
            "Iteration #420: W_new = [ 6.56452637 10.45566818], MSE = 741.84\n",
            "Iteration #430: W_new = [ 6.57068989 10.45651322], MSE = 741.6\n",
            "Iteration #440: W_new = [ 6.57629058 10.45727195], MSE = 741.39\n",
            "Iteration #450: W_new = [ 6.58138004 10.45795391], MSE = 741.19\n",
            "Iteration #460: W_new = [ 6.58600513 10.45856746], MSE = 741.02\n",
            "Iteration #470: W_new = [ 6.59020834 10.45911995], MSE = 740.86\n",
            "Iteration #480: W_new = [ 6.59402829 10.45961787], MSE = 740.71\n",
            "Iteration #490: W_new = [ 6.59750002 10.46006696], MSE = 740.58\n"
          ]
        }
      ]
    },
    {
      "cell_type": "markdown",
      "source": [
        "**2*. В этом коде мы избавляемся от итераций по весам, но тут есть ошибка, исправьте ее**"
      ],
      "metadata": {
        "id": "jyGqCaj5K-RJ"
      }
    },
    {
      "cell_type": "code",
      "source": [
        "# w = np.array([1, 0.5])\n",
        "# for i in range(1001):\n",
        "#     y_pred = np.dot(w, X.T)\n",
        "#     err = calc_mse(y, y_pred)\n",
        "#     w -= (eta * (1/n * 2 * np.sum(X.T * (y_pred - y)))) # ошибка!\n",
        "#     if i % 100 == 0:\n",
        "#         print(i, w, err)"
      ],
      "metadata": {
        "id": "8YIxqKdUNu1-"
      },
      "execution_count": null,
      "outputs": []
    },
    {
      "cell_type": "markdown",
      "source": [
        "Ошибка заключается в том, что необходимо транспонировать матрицу при вычислении градиента, а не только вектор целевой переменной y."
      ],
      "metadata": {
        "id": "ja_yi5NBNmfL"
      }
    },
    {
      "cell_type": "code",
      "source": [
        "w = np.array([1, 0.5])\n",
        "for i in range(1001):\n",
        "    y_pred = np.dot(w, X.T)\n",
        "    err = calc_mse(y, y_pred)\n",
        "    w -= (eta * (1/n * 2 * np.dot(X.T, (y_pred - y)))) # исправлено!\n",
        "    if i % 100 == 0:\n",
        "        print(i, w, err)"
      ],
      "metadata": {
        "colab": {
          "base_uri": "https://localhost:8080/"
        },
        "id": "UGc21F-1L3Bc",
        "outputId": "c0245f7e-da0b-4b3a-ab5e-a19fb5f77e8f"
      },
      "execution_count": 13,
      "outputs": [
        {
          "output_type": "stream",
          "name": "stdout",
          "text": [
            "0 [2.08 4.27] 3047.75\n",
            "100 [28.38281518  6.83710367] 177.42704441959268\n",
            "200 [38.38986469  5.02247953] 65.32695101413637\n",
            "300 [42.39314129  4.29654705] 47.386842165377494\n",
            "400 [43.99463466  4.00614091] 44.51576957544466\n",
            "500 [44.63530512  3.8899652 ] 44.0562931092674\n",
            "600 [44.89160255  3.84348962] 43.98276009456375\n",
            "700 [44.99413322  3.82489726] 43.97099212677991\n",
            "800 [45.03515017  3.81745947] 43.969108822167414\n",
            "900 [45.05155882  3.81448401] 43.968807424651004\n",
            "1000 [45.05812303  3.8132937 ] 43.96875919004132\n"
          ]
        }
      ]
    },
    {
      "cell_type": "markdown",
      "source": [
        "3*. Вместо того, чтобы задавать количество итераций, задайте условие остановки алгоритма - когда ошибка за итерацию начинает изменяться ниже определенного порога. Сколько нужно сделать итераций, если установить допустимое отклонение mse в размере diff=1e-6, а значение eta=1e-2?"
      ],
      "metadata": {
        "id": "B36mEprlP7w9"
      }
    },
    {
      "cell_type": "code",
      "source": [
        "def mse(y_pred, y_true):\n",
        "    return np.mean((y_pred - y_true)**2)\n",
        "\n",
        "def gradient(X, y, w):\n",
        "    y_pred = X.dot(w)\n",
        "    error = y_pred - y\n",
        "    grad = 2 * X.T.dot(error) / len(y)\n",
        "    return grad\n",
        "\n",
        "data = pd.DataFrame({'x1': [1, 2, 3, 4, 5], 'x2': [2, 4, 6, 8, 10], 'y': [4, 8, 12, 16, 20]})\n",
        "X = data[['x1', 'x2']].values\n",
        "y = data['y'].values\n",
        "\n",
        "w = np.random.randn(2)\n",
        "eta = 1e-2\n",
        "diff = 1e-6\n",
        "\n",
        "error = mse(X.dot(w), y)\n",
        "num_iterations = 0\n",
        "while True:\n",
        "    w -= eta * gradient(X, y, w)\n",
        "    new_error = mse(X.dot(w), y)\n",
        "    if abs(new_error - error) < diff:\n",
        "        break\n",
        "    error = new_error\n",
        "    num_iterations += 1\n",
        "\n",
        "print('Weights:', w)\n",
        "print('Final error:', error)\n",
        "print('Number of iterations:', num_iterations)"
      ],
      "metadata": {
        "colab": {
          "base_uri": "https://localhost:8080/"
        },
        "id": "Wi8qEygKRSo8",
        "outputId": "5d7a08e0-c707-4a0c-a16a-76f807b4cfdd"
      },
      "execution_count": 30,
      "outputs": [
        {
          "output_type": "stream",
          "name": "stdout",
          "text": [
            "Weights: [0.404606   1.79769493]\n",
            "Final error: 1.887511090985731e-08\n",
            "Number of iterations: 5\n"
          ]
        }
      ]
    }
  ]
}