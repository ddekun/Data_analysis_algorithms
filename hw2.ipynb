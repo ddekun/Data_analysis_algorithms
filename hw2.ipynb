{
  "nbformat": 4,
  "nbformat_minor": 0,
  "metadata": {
    "colab": {
      "provenance": [],
      "authorship_tag": "ABX9TyP5Xyb6moCBmJpxA2F7nt27",
      "include_colab_link": true
    },
    "kernelspec": {
      "name": "python3",
      "display_name": "Python 3"
    },
    "language_info": {
      "name": "python"
    }
  },
  "cells": [
    {
      "cell_type": "markdown",
      "metadata": {
        "id": "view-in-github",
        "colab_type": "text"
      },
      "source": [
        "<a href=\"https://colab.research.google.com/github/ddekun/Data_analysis_algorithms/blob/lesson2/hw2.ipynb\" target=\"_parent\"><img src=\"https://colab.research.google.com/assets/colab-badge.svg\" alt=\"Open In Colab\"/></a>"
      ]
    },
    {
      "cell_type": "markdown",
      "source": [
        "# Алгоритмы анализа данных"
      ],
      "metadata": {
        "id": "qlHjgT90xn-M"
      }
    },
    {
      "cell_type": "markdown",
      "source": [
        "## Урок 2. Масштабирование признаков. L1- и L2-регуляризация. Стохастический градиентный спуск"
      ],
      "metadata": {
        "id": "zI9Fg1Qzxqsn"
      }
    },
    {
      "cell_type": "markdown",
      "source": [
        "### Домашнее задание\n",
        "Сгенерировать датасет при помощи sklearn.datasets.make_regression и обучить линейную модель при помощи градиентного спуска и стохастического градиентного спуска. Построить графики среднеквадратичной ошибки (MSE) от числа итераций для обоих методов на одном рисунке, сделать выводы о разнице скорости сходимости каждого из методов."
      ],
      "metadata": {
        "id": "rpMQ74AdxugI"
      }
    },
    {
      "cell_type": "code",
      "execution_count": 93,
      "metadata": {
        "id": "w-dHrkHSxlMr"
      },
      "outputs": [],
      "source": [
        "import numpy as np\n",
        "import matplotlib.pyplot as plt\n",
        "from sklearn.datasets import make_regression\n",
        "from sklearn.preprocessing import StandardScaler"
      ]
    },
    {
      "cell_type": "code",
      "source": [
        "X, y = make_regression(n_samples=1000, n_features=10, noise=10)\n",
        "scaler = StandardScaler()\n",
        "X = scaler.fit_transform(X)\n",
        "y = scaler.fit_transform(y.reshape(-1, 1)).ravel()"
      ],
      "metadata": {
        "id": "M_vtuITo62fS"
      },
      "execution_count": 103,
      "outputs": []
    },
    {
      "cell_type": "code",
      "source": [
        "def gradient_descent(X, y, alpha=0.001, max_iters=2000):\n",
        "    theta = np.zeros(X.shape[1])\n",
        "    mse_list = []\n",
        "    for i in range(max_iters):\n",
        "        y_pred = np.dot(X, theta)\n",
        "        mse = np.mean((y_pred - y) ** 2)\n",
        "        mse_list.append(mse)\n",
        "        grad = np.dot(X.T, y_pred - y) / len(y)\n",
        "        theta -= alpha * grad\n",
        "    return theta, mse_list\n",
        "\n",
        "\n",
        "def stochastic_gradient_descent(X, y, alpha=0.001, max_iters=2000, batch_size=32):\n",
        "    theta = np.zeros(X.shape[1])\n",
        "    mse_list = []\n",
        "    for i in range(max_iters):\n",
        "        idx = np.random.choice(len(y), batch_size, replace=False)\n",
        "        X_batch = X[idx]\n",
        "        y_batch = y[idx]\n",
        "        y_pred = np.dot(X_batch, theta)\n",
        "        mse = np.mean((y_pred - y_batch) ** 2)\n",
        "        mse_list.append(mse)\n",
        "        grad = np.dot(X_batch.T, y_pred - y_batch) / len(y_batch)\n",
        "        theta -= alpha * grad\n",
        "    return theta, mse_list"
      ],
      "metadata": {
        "id": "lVN0hnXV64A6"
      },
      "execution_count": 112,
      "outputs": []
    },
    {
      "cell_type": "code",
      "source": [
        "gd_theta, gd_mse = gradient_descent(X, y)\n",
        "sgd_theta, sgd_mse = stochastic_gradient_descent(X, y)\n",
        "\n",
        "plt.plot(sgd_mse, color='g', label='Stochastic Gradient Descent')\n",
        "plt.plot(gd_mse, color='r', label='Gradient Descent')\n",
        "plt.xlabel('Number of Iterations')\n",
        "plt.ylabel('MSE')\n",
        "plt.legend()\n",
        "plt.show()"
      ],
      "metadata": {
        "colab": {
          "base_uri": "https://localhost:8080/",
          "height": 279
        },
        "id": "0zo5Gqat66d6",
        "outputId": "e193af5e-3ee2-4cbe-dacc-aa0ab05d129e"
      },
      "execution_count": 120,
      "outputs": [
        {
          "output_type": "display_data",
          "data": {
            "text/plain": [
              "<Figure size 432x288 with 1 Axes>"
            ],
            "image/png": "[encoded data removed]"
          },
          "metadata": {
            "needs_background": "light"
          }
        }
      ]
    },
    {
      "cell_type": "markdown",
      "source": [
        "Из графика видно, что стохастический градиентный спуск сходится быстрее, чем градиентный спуск. Это происходит потому, что стохастический градиентный спуск использует только небольшую случайную подвыборку данных на каждой итерации, что позволяет быстрее достигать локального минимума. Однако, за счет использования случайных подвыборок, стохастический градиентный спуск не гарантирует точности, которая достигается при градиентном спуске на всем наборе данных. Кроме того, стохастический градиентный спуск может страдать от высокой дисперсии на начальных итерациях, которая со временем уменьшается по мере улучшения модели.\n",
        "\n",
        "Таким образом, выбор между градиентным спуском и стохастическим градиентным спуском зависит от конкретной задачи и доступных ресурсов. Если вы обучаете модель на большом наборе данных, стохастический градиентный спуск может быть более эффективным, тогда как на небольшом наборе данных или при высоких вычислительных мощностях градиентный спуск может быть более точным."
      ],
      "metadata": {
        "id": "u3e5KTn18v68"
      }
    }
  ]
}