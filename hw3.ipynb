{
  "nbformat": 4,
  "nbformat_minor": 0,
  "metadata": {
    "colab": {
      "provenance": [],
      "authorship_tag": "ABX9TyPMhBChg/BfcsWzHUr5CMxQ",
      "include_colab_link": true
    },
    "kernelspec": {
      "name": "python3",
      "display_name": "Python 3"
    },
    "language_info": {
      "name": "python"
    }
  },
  "cells": [
    {
      "cell_type": "markdown",
      "metadata": {
        "id": "view-in-github",
        "colab_type": "text"
      },
      "source": [
        "<a href=\"https://colab.research.google.com/github/ddekun/Data_analysis_algorithms/blob/lesson3/hw3.ipynb\" target=\"_parent\"><img src=\"https://colab.research.google.com/assets/colab-badge.svg\" alt=\"Open In Colab\"/></a>"
      ]
    },
    {
      "cell_type": "markdown",
      "source": [
        "# Алгоритмы анализа данных"
      ],
      "metadata": {
        "id": "zgqpds8H4S89"
      }
    },
    {
      "cell_type": "markdown",
      "source": [
        "## Урок 3. Логистическая регрессия. Log Loss"
      ],
      "metadata": {
        "id": "jDTI5pTZ4VaY"
      }
    },
    {
      "cell_type": "markdown",
      "source": [
        "### Домашнее задание"
      ],
      "metadata": {
        "id": "oYuVeg5K4cxa"
      }
    },
    {
      "cell_type": "markdown",
      "source": [
        "**1. Измените функцию calc_logloss так, чтобы нули по возможности не попадали в np.log (как вариант - использовать np.clip или np.where).**"
      ],
      "metadata": {
        "id": "F5e_FDjw4eys"
      }
    },
    {
      "cell_type": "code",
      "execution_count": 1,
      "metadata": {
        "id": "D_eWoM09jPU-"
      },
      "outputs": [],
      "source": [
        "import numpy as np\n",
        "import matplotlib.pyplot as plt"
      ]
    },
    {
      "cell_type": "code",
      "source": [
        "X = np.array([ [   1,    1,  500,    1],\n",
        "               [   1,    1,  700,    1],\n",
        "               [   1,    2,  750,    2],\n",
        "               [   1,    5,  600,    1],\n",
        "               [   1,    3, 1450,    2],\n",
        "               [   1,    0,  800,    1],\n",
        "               [   1,    5, 1500,    3],\n",
        "               [   1,   10, 2000,    3],\n",
        "               [   1,    1,  450,    1],\n",
        "               [   1,    2, 1000,    2]], dtype = np.float64)\n",
        "\n",
        "y = np.array([0, 0, 1, 0, 1, 0, 1, 0, 1, 1], dtype = np.float64)"
      ],
      "metadata": {
        "id": "2xBDHwjD5Pks"
      },
      "execution_count": 2,
      "outputs": []
    },
    {
      "cell_type": "code",
      "source": [
        "def standard_scale(X):\n",
        "    mean = X.mean(axis=0)\n",
        "    std = X.std(axis=0)\n",
        "    return (X - mean) / std"
      ],
      "metadata": {
        "id": "2VmrMt3k5Z1R"
      },
      "execution_count": 3,
      "outputs": []
    },
    {
      "cell_type": "code",
      "source": [
        "X_st = X.copy().astype(np.float64)\n",
        "X_st[:, 1:4] = standard_scale(X_st[:, 1:4])\n",
        "X_st"
      ],
      "metadata": {
        "colab": {
          "base_uri": "https://localhost:8080/"
        },
        "id": "6WE2u2wq5dzj",
        "outputId": "b8c833f4-62dc-4792-c592-00b3d7985d48"
      },
      "execution_count": 4,
      "outputs": [
        {
          "output_type": "execute_result",
          "data": {
            "text/plain": [
              "array([[ 1.        , -0.70710678, -0.97958969, -0.89625816],\n",
              "       [ 1.        , -0.70710678, -0.56713087, -0.89625816],\n",
              "       [ 1.        , -0.35355339, -0.46401617,  0.38411064],\n",
              "       [ 1.        ,  0.70710678, -0.77336028, -0.89625816],\n",
              "       [ 1.        ,  0.        ,  0.97958969,  0.38411064],\n",
              "       [ 1.        , -1.06066017, -0.36090146, -0.89625816],\n",
              "       [ 1.        ,  0.70710678,  1.08270439,  1.66447944],\n",
              "       [ 1.        ,  2.47487373,  2.11385144,  1.66447944],\n",
              "       [ 1.        , -0.70710678, -1.08270439, -0.89625816],\n",
              "       [ 1.        , -0.35355339,  0.05155735,  0.38411064]])"
            ]
          },
          "metadata": {},
          "execution_count": 4
        }
      ]
    },
    {
      "cell_type": "code",
      "source": [
        "def calc_logloss(y, y_pred):\n",
        "    err = 0\n",
        "    for i in range(len(y)):\n",
        "        if y_pred[i] == 0:\n",
        "            err += (1.0 - y[i]) * np.log(1.0 - y_pred[i])\n",
        "        elif y_pred[i] == 1:\n",
        "            err += y[i] * np.log(y_pred[i])\n",
        "        else:\n",
        "            err += y[i] * np.log(y_pred[i]) + (1.0 - y[i]) * np.log(1.0 - y_pred[i])\n",
        "    return - err / len(y)"
      ],
      "metadata": {
        "id": "YkEwbwx_5wHn"
      },
      "execution_count": 6,
      "outputs": []
    },
    {
      "cell_type": "code",
      "source": [
        "# Пример применения\n",
        "y1 = np.array([1, 0])\n",
        "y_pred1 = np.array([1, 0.1])\n",
        "calc_logloss(y1, y_pred1)"
      ],
      "metadata": {
        "colab": {
          "base_uri": "https://localhost:8080/"
        },
        "id": "-uP6j8YR56vP",
        "outputId": "3d039a16-f7ee-4816-ca79-a141991ce969"
      },
      "execution_count": 7,
      "outputs": [
        {
          "output_type": "execute_result",
          "data": {
            "text/plain": [
              "0.05268025782891314"
            ]
          },
          "metadata": {},
          "execution_count": 7
        }
      ]
    },
    {
      "cell_type": "markdown",
      "source": [
        "**2. Подберите аргументы функции eval_model для логистической регрессии таким образом, чтобы log loss был минимальным.**"
      ],
      "metadata": {
        "id": "DXkJK5PH5-Fw"
      }
    },
    {
      "cell_type": "code",
      "source": [
        "def sigmoid(z):\n",
        "    res = 1 / (1 + np.exp(-z))\n",
        "    return res"
      ],
      "metadata": {
        "id": "4N6Cj0g48Utp"
      },
      "execution_count": 12,
      "outputs": []
    },
    {
      "cell_type": "code",
      "source": [
        "\n",
        "z = np.linspace(-10, 10, 101)"
      ],
      "metadata": {
        "id": "-11Hdv6p8X6w"
      },
      "execution_count": 13,
      "outputs": []
    },
    {
      "cell_type": "code",
      "source": [
        "probabilities = sigmoid(z)"
      ],
      "metadata": {
        "id": "x4VbddFk-uAy"
      },
      "execution_count": 15,
      "outputs": []
    },
    {
      "cell_type": "code",
      "source": [
        "plt.plot(z, probabilities)\n",
        "plt.show()"
      ],
      "metadata": {
        "colab": {
          "base_uri": "https://localhost:8080/",
          "height": 265
        },
        "id": "YuEbC7XO-wSV",
        "outputId": "e45597d3-3e02-4ccf-bf53-6f8321ba0eb8"
      },
      "execution_count": 16,
      "outputs": [
        {
          "output_type": "display_data",
          "data": {
            "text/plain": [
              "<Figure size 432x288 with 1 Axes>"
            ],
            "image/png": "[encoded data removed]"
          },
          "metadata": {
            "needs_background": "light"
          }
        }
      ]
    },
    {
      "cell_type": "code",
      "source": [
        "def eval_model(X, y, iterations, eta=1e-4):\n",
        "    np.random.seed(42)\n",
        "    W = np.random.randn(X.shape[1])\n",
        "    n = X.shape[0]\n",
        "    \n",
        "    for i in range(iterations):\n",
        "        z = np.dot(X, W)\n",
        "        y_pred = sigmoid(z)\n",
        "        err = calc_logloss(y, y_pred)\n",
        "        \n",
        "        dQ = 1/n * X.T @ (y_pred - y)\n",
        "        W -= eta * dQ\n",
        "        if i % (iterations / 10) == 0:\n",
        "            print(i, W, err)\n",
        "    return W"
      ],
      "metadata": {
        "id": "OsVXIl7P-0FP"
      },
      "execution_count": 17,
      "outputs": []
    },
    {
      "cell_type": "code",
      "source": [
        "W = eval_model(X_st, y, iterations=500, eta=1e-4)"
      ],
      "metadata": {
        "colab": {
          "base_uri": "https://localhost:8080/"
        },
        "id": "R-JOkUmU-1QD",
        "outputId": "3db79ff6-3af2-4011-af11-a096510b0b8f"
      },
      "execution_count": 18,
      "outputs": [
        {
          "output_type": "stream",
          "name": "stdout",
          "text": [
            "0 [ 0.4967106  -0.13829138  0.6476652   1.52301741] 0.760958797591889\n",
            "50 [ 0.49653276 -0.13964506  0.64649853  1.52239548] 0.7602363860386216\n",
            "100 [ 0.49635422 -0.14099791  0.64533277  1.52177448] 0.7595150284215482\n",
            "150 [ 0.496175   -0.14234992  0.64416792  1.5211544 ] 0.7587947248247462\n",
            "200 [ 0.49599509 -0.14370111  0.64300398  1.52053525] 0.7580754753308987\n",
            "250 [ 0.4958145  -0.14505147  0.64184096  1.51991703] 0.7573572800212871\n",
            "300 [ 0.49563322 -0.14640099  0.64067885  1.51929974] 0.7566401389758188\n",
            "350 [ 0.49545126 -0.14774968  0.63951766  1.51868337] 0.7559240522730254\n",
            "400 [ 0.49526862 -0.14909754  0.63835738  1.51806794] 0.7552090199900762\n",
            "450 [ 0.4950853  -0.15044456  0.63719802  1.51745344] 0.7544950422027925\n"
          ]
        }
      ]
    },
    {
      "cell_type": "code",
      "source": [
        "#     ИЗМЕНЕНИЯ\n",
        "W = eval_model(X_st, y, iterations=1000, eta=0.7)"
      ],
      "metadata": {
        "colab": {
          "base_uri": "https://localhost:8080/"
        },
        "id": "s5jSnhPF-3_E",
        "outputId": "40832188-8883-4d0d-fb72-c7fc4a32d41c"
      },
      "execution_count": 19,
      "outputs": [
        {
          "output_type": "stream",
          "name": "stdout",
          "text": [
            "0 [ 0.47186474 -0.32783796  0.48428984  1.43589401] 0.760958797591889\n",
            "100 [ 0.0644048  -2.45695645 -0.94912337  3.8615032 ] 0.30305066238325984\n",
            "200 [ 0.24866488 -2.98703594 -1.58384957  5.173296  ] 0.2674824945486562\n",
            "300 [ 0.42312674 -3.35122403 -2.07170295  6.15156269] 0.24795024023224982\n",
            "400 [ 0.58029984 -3.65958863 -2.48045733  6.98162526] 0.2339608874265411\n",
            "500 [ 0.72291237 -3.93905198 -2.83986792  7.72385091] 0.22281416762827827\n",
            "600 [ 0.85376956 -4.19885354 -3.16507243  8.40481733] 0.21345410878440604\n",
            "700 [ 0.97493761 -4.44318283 -3.46455813  9.03859807] 0.2053607303915983\n",
            "800 [ 1.08791081 -4.67443085 -3.74350839  9.63370947] 0.19823486450410455\n",
            "900 [ 1.19380592 -4.89420797 -4.00534886 10.19586235] 0.19188383674617543\n"
          ]
        }
      ]
    },
    {
      "cell_type": "markdown",
      "source": [
        "**3. Создайте функцию calc_pred_proba, возвращающую предсказанную вероятность класса 1 (на вход подаются W, который уже посчитан функцией eval_model и X, на выходе - массив y_pred_proba).**"
      ],
      "metadata": {
        "id": "pPJ04-Na8ubK"
      }
    },
    {
      "cell_type": "code",
      "source": [
        "def calc_pred_proba(W, X):\n",
        "    y_pred_proba = sigmoid(np.dot(X, W))\n",
        "    return y_pred_proba"
      ],
      "metadata": {
        "id": "9Aq5GtiZ9J2k"
      },
      "execution_count": 20,
      "outputs": []
    },
    {
      "cell_type": "code",
      "source": [
        "calc_pred_proba(W, X_st)"
      ],
      "metadata": {
        "colab": {
          "base_uri": "https://localhost:8080/"
        },
        "id": "yFuZdY7l_CgI",
        "outputId": "94bec710-f5ea-4b0a-90ea-363fc5a5496d"
      },
      "execution_count": 21,
      "outputs": [
        {
          "output_type": "execute_result",
          "data": {
            "text/plain": [
              "array([3.66289977e-01, 9.10270925e-02, 9.99897706e-01, 1.76940775e-04,\n",
              "       7.77017424e-01, 2.01984029e-01, 9.99982148e-01, 7.81550649e-02,\n",
              "       4.72548089e-01, 9.99085589e-01])"
            ]
          },
          "metadata": {},
          "execution_count": 21
        }
      ]
    },
    {
      "cell_type": "markdown",
      "source": [
        "**4. Создайте функцию calc_pred, возвращающую предсказанный класс (на вход подаются W, который уже посчитан функцией eval_model и X, на выходе - массив y_pred).**"
      ],
      "metadata": {
        "id": "rrU3RlVi_Enm"
      }
    },
    {
      "cell_type": "code",
      "source": [
        "def calc_pred(W, X):\n",
        "    y_pred_proba = calc_pred_proba(W, X)\n",
        "    y_pred = np.where(y_pred_proba > 0.7, 1, 0)\n",
        "    return y_pred"
      ],
      "metadata": {
        "id": "V78qEftP_K1m"
      },
      "execution_count": 23,
      "outputs": []
    },
    {
      "cell_type": "code",
      "source": [
        "pred = calc_pred(W, X_st)\n",
        "pred"
      ],
      "metadata": {
        "colab": {
          "base_uri": "https://localhost:8080/"
        },
        "id": "yssd5-91_M5D",
        "outputId": "b05f94cf-d3d1-450e-ffcb-3efbe9ea1fae"
      },
      "execution_count": 24,
      "outputs": [
        {
          "output_type": "execute_result",
          "data": {
            "text/plain": [
              "array([0, 0, 1, 0, 1, 0, 1, 0, 0, 1])"
            ]
          },
          "metadata": {},
          "execution_count": 24
        }
      ]
    },
    {
      "cell_type": "markdown",
      "source": [
        "**5. *Реализуйте функции для подсчета Accuracy, матрицы ошибок, точности и полноты, а также F1 score.**"
      ],
      "metadata": {
        "id": "bE7Xw07i_RkA"
      }
    },
    {
      "cell_type": "markdown",
      "source": [
        "**Accuracy**"
      ],
      "metadata": {
        "id": "v7vpjBhi_bsO"
      }
    },
    {
      "cell_type": "code",
      "source": [
        "def accuracy(y, y_pred):\n",
        "    accuracy = np.mean(y == y_pred)\n",
        "    return accuracy"
      ],
      "metadata": {
        "id": "XrPAX52k_Xvm"
      },
      "execution_count": 25,
      "outputs": []
    },
    {
      "cell_type": "code",
      "source": [
        "accuracy(y, pred)"
      ],
      "metadata": {
        "colab": {
          "base_uri": "https://localhost:8080/"
        },
        "id": "8YpM4LtL_fu8",
        "outputId": "f3f222ca-508d-409c-ac0f-fd8509785263"
      },
      "execution_count": 26,
      "outputs": [
        {
          "output_type": "execute_result",
          "data": {
            "text/plain": [
              "0.9"
            ]
          },
          "metadata": {},
          "execution_count": 26
        }
      ]
    },
    {
      "cell_type": "markdown",
      "source": [
        "**Confusion Matrix**"
      ],
      "metadata": {
        "id": "p2Dqvs0-_l2-"
      }
    },
    {
      "cell_type": "code",
      "source": [
        "def confusion_matrix(y, y_pred):\n",
        "    cm = np.zeros((2, 2))\n",
        "    for i in range(len(y)): \n",
        "        if y[i] == y_pred[i] ==  0: # TN\n",
        "            cm[0][0] += 1\n",
        "        elif y[i] == y_pred[i] == 1: # TP \n",
        "            cm[1][1] += 1\n",
        "        elif y[i] != y_pred[i] and y[i] == 1:\n",
        "            cm[1][0] += 1\n",
        "        elif y[i] != y_pred[i] and y[i] == 1: # FN\n",
        "            cm[0][1] += 1\n",
        "    return cm"
      ],
      "metadata": {
        "id": "5xaboNnD_mtm"
      },
      "execution_count": 27,
      "outputs": []
    },
    {
      "cell_type": "code",
      "source": [
        "cm = confusion_matrix(y, pred)\n",
        "cm"
      ],
      "metadata": {
        "colab": {
          "base_uri": "https://localhost:8080/"
        },
        "id": "keC5fk0-_oix",
        "outputId": "ffcd35c8-c3b0-43b3-8a84-588036023ff2"
      },
      "execution_count": 28,
      "outputs": [
        {
          "output_type": "execute_result",
          "data": {
            "text/plain": [
              "array([[5., 0.],\n",
              "       [1., 4.]])"
            ]
          },
          "metadata": {},
          "execution_count": 28
        }
      ]
    },
    {
      "cell_type": "code",
      "source": [
        "from sklearn.metrics import confusion_matrix"
      ],
      "metadata": {
        "id": "wdsGwxKgAqcm"
      },
      "execution_count": 29,
      "outputs": []
    },
    {
      "cell_type": "code",
      "source": [
        "confusion_matrix(y, pred)"
      ],
      "metadata": {
        "colab": {
          "base_uri": "https://localhost:8080/"
        },
        "id": "FfQbZFSqAs5A",
        "outputId": "cb907aa0-19b6-4701-b7d0-d2dbf89f58b6"
      },
      "execution_count": 30,
      "outputs": [
        {
          "output_type": "execute_result",
          "data": {
            "text/plain": [
              "array([[5, 0],\n",
              "       [1, 4]])"
            ]
          },
          "metadata": {},
          "execution_count": 30
        }
      ]
    },
    {
      "cell_type": "markdown",
      "source": [
        "**Precision**"
      ],
      "metadata": {
        "id": "F3as36nMA5vi"
      }
    },
    {
      "cell_type": "code",
      "source": [
        "def precision(y, y_pred):\n",
        "    cm = confusion_matrix(y, y_pred)\n",
        "    TN = cm[0][0]\n",
        "    TP = cm[1][1]\n",
        "    FP = cm[0][1]\n",
        "    FN = cm[1][0]\n",
        "    precision = TP / (TP + FP)\n",
        "    return precision"
      ],
      "metadata": {
        "id": "C7SJEhA4A6-6"
      },
      "execution_count": 31,
      "outputs": []
    },
    {
      "cell_type": "code",
      "source": [
        "precision(y, pred)"
      ],
      "metadata": {
        "colab": {
          "base_uri": "https://localhost:8080/"
        },
        "id": "qBpfG1E6A9T7",
        "outputId": "32b85621-a183-4c35-d2d5-299ff14f5862"
      },
      "execution_count": 32,
      "outputs": [
        {
          "output_type": "execute_result",
          "data": {
            "text/plain": [
              "1.0"
            ]
          },
          "metadata": {},
          "execution_count": 32
        }
      ]
    },
    {
      "cell_type": "code",
      "source": [
        "from sklearn.metrics import precision_score"
      ],
      "metadata": {
        "id": "t2AtCz6nA_gs"
      },
      "execution_count": 33,
      "outputs": []
    },
    {
      "cell_type": "code",
      "source": [
        "precision_score(y, pred)"
      ],
      "metadata": {
        "colab": {
          "base_uri": "https://localhost:8080/"
        },
        "id": "mttxx42EBBrW",
        "outputId": "d08b0e6a-5260-4ac2-a929-3bc9f8e17f1d"
      },
      "execution_count": 34,
      "outputs": [
        {
          "output_type": "execute_result",
          "data": {
            "text/plain": [
              "1.0"
            ]
          },
          "metadata": {},
          "execution_count": 34
        }
      ]
    },
    {
      "cell_type": "markdown",
      "source": [
        "**Recall**"
      ],
      "metadata": {
        "id": "ll25IwyqBEI5"
      }
    },
    {
      "cell_type": "code",
      "source": [
        "def recall(y, y_pred):\n",
        "    cm = confusion_matrix(y, y_pred)\n",
        "    TN = cm[0][0]\n",
        "    TP = cm[1][1]\n",
        "    FP = cm[0][1]\n",
        "    FN = cm[1][0]\n",
        "    recall = TP / (TP + FN)\n",
        "    return recall"
      ],
      "metadata": {
        "id": "iBqjfryDBG9U"
      },
      "execution_count": 35,
      "outputs": []
    },
    {
      "cell_type": "code",
      "source": [
        "recall(y, pred)"
      ],
      "metadata": {
        "colab": {
          "base_uri": "https://localhost:8080/"
        },
        "id": "w_mitbhCBKCj",
        "outputId": "dbf8fb45-77cf-4a99-db12-1e1b0633851f"
      },
      "execution_count": 36,
      "outputs": [
        {
          "output_type": "execute_result",
          "data": {
            "text/plain": [
              "0.8"
            ]
          },
          "metadata": {},
          "execution_count": 36
        }
      ]
    },
    {
      "cell_type": "code",
      "source": [
        "from sklearn.metrics import recall_score"
      ],
      "metadata": {
        "id": "dX11E3JQBNqb"
      },
      "execution_count": 37,
      "outputs": []
    },
    {
      "cell_type": "code",
      "source": [
        "recall_score(y, pred)"
      ],
      "metadata": {
        "colab": {
          "base_uri": "https://localhost:8080/"
        },
        "id": "tlpQ0B25BOyC",
        "outputId": "5643dbd0-83d5-4420-8a0a-e1181ba5cbb0"
      },
      "execution_count": 38,
      "outputs": [
        {
          "output_type": "execute_result",
          "data": {
            "text/plain": [
              "0.8"
            ]
          },
          "metadata": {},
          "execution_count": 38
        }
      ]
    },
    {
      "cell_type": "markdown",
      "source": [
        "**F-score**"
      ],
      "metadata": {
        "id": "U1xCntNjBRCg"
      }
    },
    {
      "cell_type": "code",
      "source": [
        "def f_score(y, y_pred):\n",
        "    pr = precision(y, y_pred)\n",
        "    rec = recall(y, y_pred)\n",
        "    f_score = 2 * pr * rec / (pr + rec)\n",
        "    return f_score"
      ],
      "metadata": {
        "id": "-IMQnQHGBTYA"
      },
      "execution_count": 39,
      "outputs": []
    },
    {
      "cell_type": "code",
      "source": [
        "f_score(y, pred)"
      ],
      "metadata": {
        "colab": {
          "base_uri": "https://localhost:8080/"
        },
        "id": "iMNz0_x3BWH-",
        "outputId": "627bf0d5-708c-4290-a22a-a87c33a2bc01"
      },
      "execution_count": 40,
      "outputs": [
        {
          "output_type": "execute_result",
          "data": {
            "text/plain": [
              "0.888888888888889"
            ]
          },
          "metadata": {},
          "execution_count": 40
        }
      ]
    },
    {
      "cell_type": "code",
      "source": [
        "from sklearn.metrics import f1_score"
      ],
      "metadata": {
        "id": "5mb_iFSFBZIf"
      },
      "execution_count": 41,
      "outputs": []
    },
    {
      "cell_type": "code",
      "source": [
        "f1_score(y, pred)"
      ],
      "metadata": {
        "colab": {
          "base_uri": "https://localhost:8080/"
        },
        "id": "rDlk5jomBa4z",
        "outputId": "5c633da5-cbeb-47a8-92ac-14f9caf229cc"
      },
      "execution_count": 43,
      "outputs": [
        {
          "output_type": "execute_result",
          "data": {
            "text/plain": [
              "0.888888888888889"
            ]
          },
          "metadata": {},
          "execution_count": 43
        }
      ]
    },
    {
      "cell_type": "markdown",
      "source": [
        "**6. Могла ли модель переобучиться? Почему?**"
      ],
      "metadata": {
        "id": "l7XDRWwVBcXR"
      }
    },
    {
      "cell_type": "markdown",
      "source": [
        "Да, могла переобучиться, так как в наборе данных мало значений."
      ],
      "metadata": {
        "id": "5jedTY7iBfDq"
      }
    }
  ]
}